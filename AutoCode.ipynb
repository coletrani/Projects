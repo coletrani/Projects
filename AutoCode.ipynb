{
  "nbformat": 4,
  "nbformat_minor": 0,
  "metadata": {
    "colab": {
      "provenance": []
    },
    "kernelspec": {
      "name": "python3",
      "display_name": "Python 3"
    },
    "language_info": {
      "name": "python"
    }
  },
  "cells": [
    {
      "cell_type": "code",
      "source": [
        "import pandas as pd\n",
        "from sklearn.model_selection import train_test_split\n",
        "from sklearn.feature_extraction.text import TfidfVectorizer\n",
        "from sklearn.multioutput import MultiOutputClassifier\n",
        "from sklearn.pipeline import Pipeline\n",
        "from sklearn.ensemble import RandomForestClassifier\n",
        "from sklearn.preprocessing import MultiLabelBinarizer\n",
        "from sklearn.metrics import classification_report\n",
        "import numpy as np\n",
        "\n",
        "\n",
        "def load_data(file_paths):\n",
        "    data_frames = []\n",
        "    for file_path in file_paths:\n",
        "        df = pd.read_excel(file_path)\n",
        "        for i in range(1, 6):\n",
        "            if f'Code{i}' not in df.columns:\n",
        "                df[f'Code{i}'] = pd.NA\n",
        "        df['Codes'] = df.apply(lambda row: [row[f'Code{i}'] for i in range(1, 6) if pd.notna(row[f'Code{i}'])], axis=1)\n",
        "        data_frames.append(df[['Transcript', 'Codes']])\n",
        "    return pd.concat(data_frames, ignore_index=True)\n",
        "\n",
        "# Load and preprocess all coded data\n",
        "coded_file_paths = [\n",
        "    '/content/302233_PRECAPI_CAMPINT.POLATTREV_ASK_20161009.xlsx',\n",
        "    '/content/302261_PRECAPI_CAMPINT.POLATTREV_ASK_20160917.xlsx',\n",
        "    '/content/302331_PRECAPI_CAMPINT.POLATTREV_ASK_20160924 (1).xlsx',\n",
        "    '/content/302665_PRECAPI_CAMPINT.POLATTREV_ASK_20160915.xlsx',\n",
        "    '/content/302746_PRECAPI_CAMPINT.POLATTREV_ASK_20160913.xlsx',\n",
        "    '/content/302877_PRECAPI_CAMPINT.POLATTREV_ASK_20160913.xlsx',\n",
        "    '/content/Untitled spreadsheet.xlsx'\n",
        "]\n",
        "all_coded_data = load_data(coded_file_paths)\n",
        "\n",
        "# Initialize the MultiLabelBinarizer\n",
        "mlb = MultiLabelBinarizer()\n",
        "y = mlb.fit_transform(all_coded_data['Codes'])\n",
        "\n",
        "# Splitting the dataset into training and testing sets\n",
        "X_train, X_test, y_train, y_test = train_test_split(all_coded_data['Transcript'], y, test_size=0.25, random_state=42)\n",
        "\n",
        "# Creating a text classification pipeline\n",
        "pipeline = Pipeline([\n",
        "    ('tfidf', TfidfVectorizer()),\n",
        "    ('clf', MultiOutputClassifier(RandomForestClassifier()))\n",
        "])\n",
        "\n",
        "# Training the model\n",
        "pipeline.fit(X_train.tolist(), y_train)\n",
        "\n",
        "# Evaluating the model\n",
        "y_pred = pipeline.predict(X_test.tolist())\n",
        "print(classification_report(y_test, y_pred, target_names=mlb.classes_))\n",
        "\n",
        "# Function to automatically code new transcripts\n",
        "def auto_code_new_transcripts(new_transcript_file_path):\n",
        "    new_transcripts_df = pd.read_excel(new_transcript_file_path)\n",
        "    predictions = pipeline.predict(new_transcripts_df['Transcript'].tolist())\n",
        "    # Ensuring predictions are correctly formatted for inverse_transform\n",
        "    predictions = np.array(predictions, dtype='int')  # Convert to integer numpy array\n",
        "    new_transcripts_df['Predicted Codes'] = [mlb.inverse_transform(np.atleast_2d(pred)) for pred in predictions]\n",
        "    return new_transcripts_df\n",
        "\n",
        "# Path to the new transcripts Excel file\n",
        "new_transcript_file_path = '/content/302806_PRECAPI_CAMPINT.POLATTREV_ASK_20161010.xlsx'\n",
        "coded_transcripts = auto_code_new_transcripts(new_transcript_file_path)\n",
        "\n",
        "# save the coded transcripts to a new Excel file\n",
        "coded_transcripts.to_excel('/content/302806_PRECAPI_CAMPINT.POLATTREV_ASK_20161010.xlsx', index=False)\n",
        "\n",
        "# Function to automatically code new transcripts\n",
        "def auto_code_new_transcripts(new_transcript_file_path, model, mlb):\n",
        "    new_transcripts_df = pd.read_excel(new_transcript_file_path)\n",
        "    if 'Transcript' not in new_transcripts_df.columns:\n",
        "        raise ValueError(\"New transcripts file must contain a 'Transcript' column.\")\n",
        "\n",
        "    predictions = model.predict(new_transcripts_df['Transcript'].tolist())\n",
        "    predictions = np.array(predictions, dtype='int')  # Ensure correct format\n",
        "    new_transcripts_df['Predicted Codes'] = [mlb.inverse_transform(np.atleast_2d(pred)) for pred in predictions]\n",
        "    return new_transcripts_df\n",
        "\n",
        "# Assuming the model and mlb (MultiLabelBinarizer) are already defined and trained\n",
        "# Path to the new transcripts Excel file\n",
        "new_transcript_file_path = '/content/302806_PRECAPI_CAMPINT.POLATTREV_ASK_20161010.xlsx'\n",
        "\n",
        "# Load, predict, and save the auto-coded new transcripts\n",
        "new_coded_transcripts = auto_code_new_transcripts(new_transcript_file_path, pipeline, mlb)\n",
        "\n",
        "# Path where you want to save the coded transcripts\n",
        "output_file_path = '/content/302806_PRECAPI_CAMPINT.POLATTREV_ASK_20161010.xlsx'\n",
        "new_coded_transcripts.to_excel(output_file_path, index=False)\n",
        "\n",
        "print(f\"New transcripts have been auto-coded and saved to {output_file_path}.\")\n"
      ],
      "metadata": {
        "colab": {
          "base_uri": "https://localhost:8080/"
        },
        "id": "v-D-T5aSqVpw",
        "outputId": "a7e90bb3-c260-4955-8e38-52c418021963"
      },
      "execution_count": 10,
      "outputs": [
        {
          "output_type": "stream",
          "name": "stdout",
          "text": [
            "              precision    recall  f1-score   support\n",
            "\n",
            "         b31       0.50      1.00      0.67         1\n",
            "         b51       0.00      0.00      0.00         1\n",
            "         c21       0.00      0.00      0.00         0\n",
            "          h1       0.00      0.00      0.00         0\n",
            "          p1       1.00      1.00      1.00         1\n",
            "\n",
            "   micro avg       0.67      0.67      0.67         3\n",
            "   macro avg       0.30      0.40      0.33         3\n",
            "weighted avg       0.50      0.67      0.56         3\n",
            " samples avg       0.33      0.33      0.33         3\n",
            "\n",
            "New transcripts have been auto-coded and saved to /content/302806_PRECAPI_CAMPINT.POLATTREV_ASK_20161010.xlsx.\n"
          ]
        },
        {
          "output_type": "stream",
          "name": "stderr",
          "text": [
            "/usr/local/lib/python3.11/dist-packages/sklearn/metrics/_classification.py:1565: UndefinedMetricWarning: Precision is ill-defined and being set to 0.0 in labels with no predicted samples. Use `zero_division` parameter to control this behavior.\n",
            "  _warn_prf(average, modifier, f\"{metric.capitalize()} is\", len(result))\n",
            "/usr/local/lib/python3.11/dist-packages/sklearn/metrics/_classification.py:1565: UndefinedMetricWarning: Recall is ill-defined and being set to 0.0 in labels with no true samples. Use `zero_division` parameter to control this behavior.\n",
            "  _warn_prf(average, modifier, f\"{metric.capitalize()} is\", len(result))\n",
            "/usr/local/lib/python3.11/dist-packages/sklearn/metrics/_classification.py:1565: UndefinedMetricWarning: F-score is ill-defined and being set to 0.0 in labels with no true nor predicted samples. Use `zero_division` parameter to control this behavior.\n",
            "  _warn_prf(average, modifier, f\"{metric.capitalize()} is\", len(result))\n",
            "/usr/local/lib/python3.11/dist-packages/sklearn/metrics/_classification.py:1565: UndefinedMetricWarning: Precision is ill-defined and being set to 0.0 in samples with no predicted labels. Use `zero_division` parameter to control this behavior.\n",
            "  _warn_prf(average, modifier, f\"{metric.capitalize()} is\", len(result))\n",
            "/usr/local/lib/python3.11/dist-packages/sklearn/metrics/_classification.py:1565: UndefinedMetricWarning: Recall is ill-defined and being set to 0.0 in samples with no true labels. Use `zero_division` parameter to control this behavior.\n",
            "  _warn_prf(average, modifier, f\"{metric.capitalize()} is\", len(result))\n",
            "/usr/local/lib/python3.11/dist-packages/sklearn/metrics/_classification.py:1565: UndefinedMetricWarning: F-score is ill-defined and being set to 0.0 in samples with no true nor predicted labels. Use `zero_division` parameter to control this behavior.\n",
            "  _warn_prf(average, modifier, f\"{metric.capitalize()} is\", len(result))\n"
          ]
        }
      ]
    },
    {
      "cell_type": "code",
      "source": [
        "\n"
      ],
      "metadata": {
        "colab": {
          "base_uri": "https://localhost:8080/"
        },
        "id": "o42Jqz61uoSj",
        "outputId": "90ef9866-d89e-467b-eacf-ffda86751acd"
      },
      "execution_count": 11,
      "outputs": [
        {
          "output_type": "stream",
          "name": "stdout",
          "text": [
            "New transcripts have been auto-coded and saved to /content/302806_PRECAPI_CAMPINT.POLATTREV_ASK_20161010.xlsx.\n"
          ]
        }
      ]
    },
    {
      "cell_type": "code",
      "source": [],
      "metadata": {
        "id": "AP0yMqi7w3gi"
      },
      "execution_count": null,
      "outputs": []
    }
  ]
}