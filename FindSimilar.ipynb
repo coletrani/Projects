{
  "nbformat": 4,
  "nbformat_minor": 0,
  "metadata": {
    "colab": {
      "provenance": []
    },
    "kernelspec": {
      "name": "python3",
      "display_name": "Python 3"
    },
    "language_info": {
      "name": "python"
    }
  },
  "cells": [
    {
      "cell_type": "code",
      "source": [
        "import requests\n",
        "import pandas as pd\n",
        "from pandas import json_normalize\n",
        "\n",
        "# Set your API key\n",
        "api_key = '47a596f3e23938512be3339f15c55adf'\n",
        "\n",
        "# API endpoint for detailed property information\n",
        "url_detail = \"https://api.gateway.attomdata.com/propertyapi/v1.0.0/property/detail\"\n",
        "# API endpoint for searching properties within a ZIP code\n",
        "url_snapshot = \"https://api.gateway.attomdata.com/propertyapi/v1.0.0/property/snapshot\"\n",
        "\n",
        "# Prompt the user for address details\n",
        "address1 = input(\"Please enter the street address (e.g., 4529 Winona Court): \")\n",
        "address2 = input(\"Please enter the city and state (e.g., Denver, CO): \")\n",
        "\n",
        "# Parameters for detail request\n",
        "params_detail = {\n",
        "    'address1': address1,\n",
        "    'address2': address2\n",
        "}\n",
        "\n",
        "# Headers for the API requests\n",
        "headers = {\n",
        "    'accept': \"application/json\",\n",
        "    'apikey': api_key,\n",
        "}\n",
        "\n",
        "# Make the API request for detailed property information\n",
        "response_detail = requests.get(url_detail, headers=headers, params=params_detail)\n",
        "\n",
        "# Process the detailed property response\n",
        "if response_detail.status_code == 200:\n",
        "    data = response_detail.json()\n",
        "    properties = json_normalize(data['property'], errors='ignore')\n",
        "    if not properties.empty:\n",
        "        # Select available columns dynamically\n",
        "        available_columns = properties.columns\n",
        "        selected_columns = [col for col in ['address.oneLine', 'building.rooms.bathstotal', 'building.size.livingsize', 'summary.yearbuilt'] if col in available_columns]\n",
        "        properties_display = properties[selected_columns]\n",
        "        column_names = {\n",
        "            'address.oneLine': 'Address',\n",
        "            'building.rooms.bathstotal': 'Total Bathrooms',\n",
        "            'building.size.livingsize': 'Living Area (sq ft)',\n",
        "            'summary.yearbuilt': 'Year Built'\n",
        "        }\n",
        "        properties_display.rename(columns=column_names, inplace=True)\n",
        "        print(\"Detailed Property Information:\")\n",
        "        print(properties_display)\n",
        "    else:\n",
        "        print(\"No property details found for the given address.\")\n",
        "else:\n",
        "    print(f\"Failed to fetch detailed property info: {response_detail.status_code}\")\n",
        "\n",
        "# Prompt for ZIP code input or use from detailed response if available\n",
        "zip_code = properties['address.postal1'].iloc[0] if not properties.empty else input(\"Please enter the ZIP code for property search: \")\n",
        "\n",
        "# Parameters for snapshot request using user-provided ZIP code\n",
        "params_snapshot = {\n",
        "    'postalcode': zip_code,\n",
        "    'pagesize': 10,  # Adjust as needed\n",
        "    'page': 1\n",
        "}\n",
        "\n",
        "# Make the API request to find properties in the same ZIP code\n",
        "response_snapshot = requests.get(url_snapshot, headers=headers, params=params_snapshot)\n",
        "\n",
        "if response_snapshot.status_code == 200:\n",
        "    snapshot_data = response_snapshot.json()\n",
        "    snapshot_properties = json_normalize(snapshot_data['property'], errors='ignore')\n",
        "    if not snapshot_properties.empty:\n",
        "        # Select available columns dynamically\n",
        "        snapshot_columns = snapshot_properties.columns\n",
        "        snapshot_selected_columns = [col for col in ['address.oneLine', 'building.size.livingsize', 'summary.yearbuilt'] if col in snapshot_columns]\n",
        "        snapshot_display = snapshot_properties[snapshot_selected_columns]\n",
        "        snapshot_column_names = {\n",
        "            'address.oneLine': 'Address',\n",
        "            'building.size.livingsize': 'Living Area (sq ft)',\n",
        "            'summary.yearbuilt': 'Year Built'\n",
        "        }\n",
        "        snapshot_display.rename(columns=snapshot_column_names, inplace=True)\n",
        "        print(f\"Properties in Area {zip_code}:\")\n",
        "        print(snapshot_display)\n",
        "    else:\n",
        "        print(\"No additional properties found in the given ZIP code.\")\n",
        "else:\n",
        "    print(f\"Failed to fetch properties in ZIP code: {response_snapshot.status_code}\")\n"
      ],
      "metadata": {
        "colab": {
          "base_uri": "https://localhost:8080/"
        },
        "id": "-Q97w6wIV-Yg",
        "outputId": "9828391d-8e63-4a4f-f7b0-b1acf6a4f435"
      },
      "execution_count": 51,
      "outputs": [
        {
          "name": "stdout",
          "output_type": "stream",
          "text": [
            "Please enter the street address (e.g., 4529 Winona Court): 4529 Winona Court\n",
            "Please enter the city and state (e.g., Denver, CO): Denver, CO\n"
          ]
        },
        {
          "output_type": "stream",
          "name": "stderr",
          "text": [
            "<ipython-input-51-db128b67abab>:47: SettingWithCopyWarning: \n",
            "A value is trying to be set on a copy of a slice from a DataFrame\n",
            "\n",
            "See the caveats in the documentation: https://pandas.pydata.org/pandas-docs/stable/user_guide/indexing.html#returning-a-view-versus-a-copy\n",
            "  properties_display.rename(columns=column_names, inplace=True)\n"
          ]
        },
        {
          "output_type": "stream",
          "name": "stdout",
          "text": [
            "Detailed Property Information:\n",
            "                            Address  Total Bathrooms  Living Area (sq ft)  \\\n",
            "0  4529 WINONA CT, DENVER, CO 80212              1.0                  934   \n",
            "\n",
            "   Year Built  \n",
            "0        1900  \n",
            "Properties in Area 80212:\n",
            "                                 Address  Year Built\n",
            "0       5316 STUART ST, DENVER, CO 80212        2002\n",
            "1        4466 PERRY ST, DENVER, CO 80212        1906\n",
            "2   3822 SHERIDAN BLVD, DENVER, CO 80212        1922\n",
            "3        4160 YATES ST, DENVER, CO 80212        1922\n",
            "4  5525 CLEAR CREEK DR, DENVER, CO 80212        1960\n",
            "5      4860 QUITMAN ST, DENVER, CO 80212        1921\n",
            "6        2836 VRAIN ST, DENVER, CO 80212        1932\n",
            "7      4091 W 53RD AVE, DENVER, CO 80212        1942\n",
            "8        4242 PERRY ST, DENVER, CO 80212        1953\n",
            "9        3635 WOLFF ST, DENVER, CO 80212        1960\n"
          ]
        },
        {
          "output_type": "stream",
          "name": "stderr",
          "text": [
            "<ipython-input-51-db128b67abab>:81: SettingWithCopyWarning: \n",
            "A value is trying to be set on a copy of a slice from a DataFrame\n",
            "\n",
            "See the caveats in the documentation: https://pandas.pydata.org/pandas-docs/stable/user_guide/indexing.html#returning-a-view-versus-a-copy\n",
            "  snapshot_display.rename(columns=snapshot_column_names, inplace=True)\n"
          ]
        }
      ]
    },
    {
      "cell_type": "code",
      "source": [],
      "metadata": {
        "id": "Ig2zgdUMUj9y"
      },
      "execution_count": 49,
      "outputs": []
    }
  ]
}